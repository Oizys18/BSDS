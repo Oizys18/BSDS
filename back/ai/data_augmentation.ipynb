{
 "cells": [
  {
   "cell_type": "code",
   "execution_count": 9,
   "metadata": {},
   "outputs": [],
   "source": [
    "from  tensorflow.python.keras.preprocessing.image import ImageDataGenerator, array_to_img, img_to_array, load_img\n",
    "\n",
    "datagen = ImageDataGenerator(\n",
    "        rotation_range=40,\n",
    "        width_shift_range=0.2,\n",
    "        height_shift_range=0.2,\n",
    "        shear_range=0.2,\n",
    "        zoom_range=0.2,\n",
    "        horizontal_flip=True,\n",
    "        fill_mode='nearest')\n",
    "\n",
    "for name in os.walk(train_dir).__next__()[1]:\n",
    "    now_path = os.path.join(train_dir, name)\n",
    "    a = os.walk(now_path).__next__()\n",
    "    if len(a[2])-333 < 0:\n",
    "      myiter = abs((len(a[2])-333)//len(a[2]))\n",
    "      mypath = os.walk(os.path.join(train_dir, name)).__next__()[0]\n",
    "      filenames = os.walk(os.path.join(train_dir, name)).__next__()[2]\n",
    "      for fn in filenames:\n",
    "        img = load_img(os.path.join(mypath, fn))\n",
    "        x = img_to_array(img)\n",
    "        x = x.reshape((1,) + x.shape)\n",
    "        i = 0\n",
    "        for batch in datagen.flow(x, batch_size=1, save_to_dir=mypath, save_prefix=f'DA{i}', save_format='jpg'):\n",
    "          i += 1\n",
    "          if i > myiter:\n",
    "              break"
   ]
  },
  {
   "cell_type": "code",
   "execution_count": 3,
   "metadata": {},
   "outputs": [
    {
     "name": "stdout",
     "output_type": "stream",
     "text": [
      "가방 269\n",
      "귀금속 58\n",
      "도서용품 8\n",
      "산업용품 3\n",
      "서류 9\n",
      "쇼핑백 181\n",
      "스포츠용품 4\n",
      "악기 1\n",
      "유가증권 19\n",
      "의류 109\n",
      "자동차 56\n",
      "전자기기 69\n",
      "증명서 13\n",
      "지갑 605\n",
      "카드 72\n",
      "컴퓨터 5\n",
      "현금 57\n",
      "휴대폰 296\n",
      "________________________train______________________\n",
      "가방 702\n",
      "귀금속 726\n",
      "도서용품 377\n",
      "산업용품 357\n",
      "서류 615\n",
      "쇼핑백 473\n",
      "스포츠용품 348\n",
      "악기 390\n",
      "유가증권 411\n",
      "의류 505\n",
      "자동차 507\n",
      "전자기기 954\n",
      "증명서 382\n",
      "지갑 1902\n",
      "카드 419\n",
      "컴퓨터 403\n",
      "현금 497\n",
      "휴대폰 898\n"
     ]
    }
   ],
   "source": [
    "import os\n",
    "base_dir = os.getcwd()\n",
    "test_dir = os.path.join(base_dir, 'dataset', 'test')\n",
    "train_dir = os.path.join(base_dir, 'dataset', 'train')\n",
    "\n",
    "\n",
    "for name in os.walk(test_dir).__next__()[1]:\n",
    "    now_path = os.path.join(test_dir, name)\n",
    "    a = os.walk(now_path).__next__()\n",
    "    print(name, len(a[2]))\n",
    "\n",
    "print('________________________train______________________')\n",
    "for name in os.walk(train_dir).__next__()[1]:\n",
    "    now_path = os.path.join(train_dir, name)\n",
    "    a = os.walk(now_path).__next__()\n",
    "    print(name, len(a[2]))\n"
   ]
  }
 ],
 "metadata": {
  "kernelspec": {
   "display_name": "Python 3",
   "language": "python",
   "name": "python3"
  },
  "language_info": {
   "codemirror_mode": {
    "name": "ipython",
    "version": 3
   },
   "file_extension": ".py",
   "mimetype": "text/x-python",
   "name": "python",
   "nbconvert_exporter": "python",
   "pygments_lexer": "ipython3",
   "version": "3.7.7"
  }
 },
 "nbformat": 4,
 "nbformat_minor": 4
}
