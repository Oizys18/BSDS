{
 "cells": [
  {
   "cell_type": "code",
   "execution_count": 7,
   "metadata": {},
   "outputs": [],
   "source": [
    "import tensorflow as tf\n",
    "import tensorflow_hub as hub\n",
    "\n",
    "CHANNELS = 3 # number of image channels (RGB)\n",
    "\n",
    "def build_graph(hub_module_url, target_image_path):\n",
    "  # Step 1) Prepare pre-trained model for extracting image features.\n",
    "  module = hub.Module(hub_module_url)\n",
    "  height, width = hub.get_expected_image_size(module)\n",
    "\n",
    "  # Copied a method of https://github.com/GoogleCloudPlatform/cloudml-samples/blob/bf0680726/flowers/trainer/model.py#L181\n",
    "  # and fixed for all type images (not only jpeg)\n",
    "  def decode_and_resize(image_str_tensor):\n",
    "    \"\"\"Decodes jpeg string, resizes it and returns a uint8 tensor.\"\"\"\n",
    "    image = tf.image.decode_image(image_str_tensor, channels=CHANNELS)\n",
    "    # Note resize expects a batch_size, but tf_map supresses that index,\n",
    "    # thus we have to expand then squeeze.  Resize returns float32 in the\n",
    "    # range [0, uint8_max]\n",
    "    image = tf.expand_dims(image, 0)\n",
    "    image = tf.image.resize_bilinear(\n",
    "        image, [height, width], align_corners=False)\n",
    "    image = tf.squeeze(image, squeeze_dims=[0])\n",
    "    image = tf.cast(image, dtype=tf.uint8)\n",
    "    return image\n",
    "\n",
    "  def to_img_feature(images):\n",
    "    \"\"\"Extract the feature of image vectors\"\"\"\n",
    "    outputs = module(dict(images=images), signature=\"image_feature_vector\", as_dict=True)\n",
    "    return outputs['default']\n",
    "\n",
    "  # Step 2) Extract image features of the target image.\n",
    "  target_image_bytes = tf.gfile.GFile(target_image_path, 'rb').read()\n",
    "  target_image = tf.constant(target_image_bytes, dtype=tf.string)\n",
    "  target_image = decode_and_resize(target_image)\n",
    "  target_image = tf.image.convert_image_dtype(target_image, dtype=tf.float32)\n",
    "  target_image = tf.expand_dims(target_image, 0)\n",
    "  target_image = to_img_feature(target_image)\n",
    "\n",
    "  # Step 3) Extract image features of input images.\n",
    "  input_byte = tf.placeholder(tf.string, shape=[None])\n",
    "  input_image = tf.map_fn(decode_and_resize, input_byte, back_prop=False, dtype=tf.uint8)\n",
    "  input_image = tf.image.convert_image_dtype(input_image, dtype=tf.float32)\n",
    "  input_image = to_img_feature(input_image)\n",
    "\n",
    "  # Step 4) Compare cosine_similarities of the target image and the input images.\n",
    "  dot = tf.tensordot(target_image, tf.transpose(input_image), 1)\n",
    "  similarity = dot / (tf.norm(target_image, axis=1) * tf.norm(input_image, axis=1))\n",
    "  similarity = tf.reshape(similarity, [-1])\n",
    "  \n",
    "  return input_byte, similarity"
   ]
  },
  {
   "cell_type": "code",
   "execution_count": 8,
   "metadata": {},
   "outputs": [
    {
     "name": "stderr",
     "output_type": "stream",
     "text": [
      "'wget'은(는) 내부 또는 외부 명령, 실행할 수 있는 프로그램, 또는\n",
      "배치 파일이 아닙니다.\n",
      "'wget'은(는) 내부 또는 외부 명령, 실행할 수 있는 프로그램, 또는\n",
      "배치 파일이 아닙니다.\n",
      "'wget'은(는) 내부 또는 외부 명령, 실행할 수 있는 프로그램, 또는\n",
      "배치 파일이 아닙니다.\n",
      "'wget'은(는) 내부 또는 외부 명령, 실행할 수 있는 프로그램, 또는\n",
      "배치 파일이 아닙니다.\n",
      "'wget'은(는) 내부 또는 외부 명령, 실행할 수 있는 프로그램, 또는\n",
      "배치 파일이 아닙니다.\n"
     ]
    }
   ],
   "source": [
    "target_image_url = \"https://d2192bm55jmxp1.cloudfront.net/resize/s/profile/201712/B4CFF0B690BB910AF5CB97A2122E9AEC427DAD810E4E0382B13643C9A8D22A55.jpg\" #@param {type:\"string\"}\n",
    "input_image1_url = \"https://d2192bm55jmxp1.cloudfront.net/resize/s/profile/201706/5b193314eff5f5b90faf9e5600d2c95c0c86c4c154414ea8a69bc26942a37613.jpg\" #@param {type:\"string\"}\n",
    "input_image2_url = \"https://d2192bm55jmxp1.cloudfront.net/resize/s/profile/201803/b15cd493adfd367b6663786ca21c4ecdeba67c859ac628849ebd4c3f7990f92b.jpg\" #@param {type:\"string\"}\n",
    "input_image3_url = \"https://d2192bm55jmxp1.cloudfront.net/resize/s/profile/201804/8d4b782228f43fb859076c41ae69a1920aec1b20154ea059a8e87142b66a9841.jpg\" #@param {type:\"string\"}\n",
    "input_image4_url = \"https://d2192bm55jmxp1.cloudfront.net/resize/s/profile/201803/4D2C44F3BB10CB84D0D6894321ED9C8761BB364786550762DC13B125B4C34361.jpg\" #@param {type:\"string\"}\n",
    "\n",
    "input_image_urls = [input_image1_url, input_image2_url, input_image3_url, input_image4_url]\n",
    "\n",
    "target_img_path = 'target_img.jpg'\n",
    "input_img_paths = []\n",
    "\n",
    "!wget -q {target_image_url} -O {target_img_path}\n",
    "\n",
    "for i, url in enumerate(input_image_urls):\n",
    "  if len(url) > 0:\n",
    "    path = \"input_img%d.jpg\" % i\n",
    "    !wget -q {url} -O {path}\n",
    "    input_img_paths.append(path)"
   ]
  },
  {
   "cell_type": "code",
   "execution_count": 9,
   "metadata": {},
   "outputs": [
    {
     "ename": "AttributeError",
     "evalue": "module 'tensorflow' has no attribute 'logging'",
     "output_type": "error",
     "traceback": [
      "\u001b[1;31m---------------------------------------------------------------------------\u001b[0m",
      "\u001b[1;31mAttributeError\u001b[0m                            Traceback (most recent call last)",
      "\u001b[1;32m<ipython-input-9-c8662df28a2e>\u001b[0m in \u001b[0;36m<module>\u001b[1;34m\u001b[0m\n\u001b[0;32m      2\u001b[0m \u001b[1;32mimport\u001b[0m \u001b[0mtensorflow\u001b[0m \u001b[1;32mas\u001b[0m \u001b[0mtf\u001b[0m\u001b[1;33m\u001b[0m\u001b[1;33m\u001b[0m\u001b[0m\n\u001b[0;32m      3\u001b[0m \u001b[1;32mfrom\u001b[0m \u001b[0mIPython\u001b[0m\u001b[1;33m.\u001b[0m\u001b[0mdisplay\u001b[0m \u001b[1;32mimport\u001b[0m \u001b[0mImage\u001b[0m\u001b[1;33m,\u001b[0m \u001b[0mdisplay\u001b[0m\u001b[1;33m\u001b[0m\u001b[1;33m\u001b[0m\u001b[0m\n\u001b[1;32m----> 4\u001b[1;33m \u001b[0mtf\u001b[0m\u001b[1;33m.\u001b[0m\u001b[0mlogging\u001b[0m\u001b[1;33m.\u001b[0m\u001b[0mset_verbosity\u001b[0m\u001b[1;33m(\u001b[0m\u001b[0mtf\u001b[0m\u001b[1;33m.\u001b[0m\u001b[0mlogging\u001b[0m\u001b[1;33m.\u001b[0m\u001b[0mERROR\u001b[0m\u001b[1;33m)\u001b[0m\u001b[1;33m\u001b[0m\u001b[1;33m\u001b[0m\u001b[0m\n\u001b[0m\u001b[0;32m      5\u001b[0m \u001b[1;33m\u001b[0m\u001b[0m\n\u001b[0;32m      6\u001b[0m \u001b[1;31m# Load bytes of image files\u001b[0m\u001b[1;33m\u001b[0m\u001b[1;33m\u001b[0m\u001b[1;33m\u001b[0m\u001b[0m\n",
      "\u001b[1;31mAttributeError\u001b[0m: module 'tensorflow' has no attribute 'logging'"
     ]
    }
   ],
   "source": [
    "import time\n",
    "import tensorflow as tf\n",
    "from IPython.display import Image, display\n",
    "tf.logging.set_verbosity(tf.logging.ERROR)\n",
    "\n",
    "# Load bytes of image files\n",
    "image_bytes = [tf.gfile.GFile(name, 'rb').read()\n",
    "               for name in [target_img_path] + input_img_paths]\n",
    "\n",
    "hub_module_url = \"https://tfhub.dev/google/imagenet/mobilenet_v2_100_96/feature_vector/1\" #@param {type:\"string\"}\n",
    "\n",
    "with tf.Graph().as_default():\n",
    "  input_byte, similarity_op = build_graph(hub_module_url, target_img_path)\n",
    "  \n",
    "  with tf.Session() as sess:\n",
    "    sess.run(tf.global_variables_initializer())\n",
    "    t0 = time.time() # for time check\n",
    "    \n",
    "    # Inference similarities\n",
    "    similarities = sess.run(similarity_op, feed_dict={input_byte: image_bytes})\n",
    "    \n",
    "    print(\"%d images inference time: %.2f s\" % (len(similarities), time.time() - t0))\n",
    "\n",
    "# Display results\n",
    "print(\"# Target image\")\n",
    "display(Image(target_img_path))\n",
    "print(\"- similarity: %.2f\" % similarities[0])\n",
    "\n",
    "print(\"# Input images\")\n",
    "for similarity, input_img_path in zip(similarities[1:], input_img_paths):\n",
    "  display(Image(input_img_path))\n",
    "  print(\"- similarity: %.2f\" % similarity)"
   ]
  }
 ],
 "metadata": {
  "kernelspec": {
   "display_name": "Python 3",
   "language": "python",
   "name": "python3"
  },
  "language_info": {
   "codemirror_mode": {
    "name": "ipython",
    "version": 3
   },
   "file_extension": ".py",
   "mimetype": "text/x-python",
   "name": "python",
   "nbconvert_exporter": "python",
   "pygments_lexer": "ipython3",
   "version": "3.7.7"
  }
 },
 "nbformat": 4,
 "nbformat_minor": 4
}
